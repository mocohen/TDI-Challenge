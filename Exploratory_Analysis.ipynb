{
 "cells": [
  {
   "cell_type": "markdown",
   "metadata": {},
   "source": [
    "# Exploratory Analysis on Multi-Modal Traffic Patterns\n",
    "\n",
    "Here I investigate how weather may affect choices for what type of transportation people choose. In this case, I choose to investigate an area with many transportation options. Lakeview, Chicago, is serviced by the Red, Brown, and Purple \"EL\" lines of the CTA, many bus routes, an extensive bike share network (DIVVY), as well as some bike lanes. Data was collected for only calendar year **2018**.\n",
    "\n",
    "Data here was collected from a number of sources:\n",
    "\n",
    "NOAA Weather Data\n",
    "https://www.ncdc.noaa.gov/cdo-web/datatools/lcd\n",
    "\n",
    "Chicago Historical Congestion Estimates\n",
    "https://data.cityofchicago.org/dataset/Chicago-Traffic-Tracker-Historical-Congestion-Esti/kf7e-cur8\n"
   ]
  },
  {
   "cell_type": "code",
   "execution_count": 247,
   "metadata": {},
   "outputs": [],
   "source": [
    "import pandas as pd\n",
    "from sodapy import Socrata\n",
    "\n",
    "import numpy as np\n",
    "import matplotlib.pyplot as plt\n",
    "from scipy import stats\n",
    "import matplotlib as mpl\n",
    "import matplotlib.dates as mdates\n",
    "\n",
    "%matplotlib inline\n",
    "\n"
   ]
  },
  {
   "cell_type": "markdown",
   "metadata": {},
   "source": [
    "## Traffic Data\n",
    "\n",
    "The city of chicago maintains historical traffic estimates based upon bus speeds throughout the city. I here specifically request data for only a single region in chicago to simplify the data (Lakeview, Chicago). "
   ]
  },
  {
   "cell_type": "code",
   "execution_count": null,
   "metadata": {},
   "outputs": [],
   "source": [
    "# Unauthenticated client only works with public data sets. Note 'None'\n",
    "# in place of application token, and no username or password:\n",
    "client = Socrata(\"data.cityofchicago.org\", None)\n",
    "\n"
   ]
  },
  {
   "cell_type": "code",
   "execution_count": 219,
   "metadata": {},
   "outputs": [],
   "source": [
    "# Gather Traffic Data from Chicago city data\n",
    "results = client.get(\"kf7e-cur8\", where=\"region_id = 8 and time > \\'2018-01-01T00:00:00\\'\", order=\"time DESC\", limit=1000000)\n",
    "\n",
    "# Convert to pandas DataFrame\n",
    "results_df = pd.DataFrame.from_records(results)"
   ]
  },
  {
   "cell_type": "code",
   "execution_count": 323,
   "metadata": {},
   "outputs": [],
   "source": [
    "# Change dataframe types to be more workable\n",
    "results_df['time'] = pd.to_datetime(results_df['time'])\n",
    "column_f_names = ['speed']\n",
    "column_i_names = ['bus_count', 'day_of_week', 'hour', 'month']\n",
    "results_df[column_i_names] = results_df[column_i_names].astype(int)\n",
    "results_df[column_f_names] = results_df[column_f_names].astype(float)\n",
    "\n",
    "#add columns for day of month and year, in addition to the already existing hour and month\n",
    "results_df['day'] = results_df['time'].dt.day\n",
    "results_df['year'] = results_df['time'].dt.year"
   ]
  },
  {
   "cell_type": "markdown",
   "metadata": {},
   "source": [
    "### Daily traffic cycles\n",
    "\n",
    "Just to see how variable traffic is throughout the day, and day to day, I plotted traffic speeds over time for the last week."
   ]
  },
  {
   "cell_type": "code",
   "execution_count": 322,
   "metadata": {},
   "outputs": [
    {
     "data": {
      "image/png": "[encoded data removed]",
      "text/plain": [
       "<matplotlib.figure.Figure at 0x1a2f9a24a8>"
      ]
     },
     "metadata": {},
     "output_type": "display_data"
    }
   ],
   "source": [
    "new_results_df = results_df[results_df['speed'] > 1]\n",
    "fig, ax = plt.subplots(figsize=(5,5))\n",
    "plt.plot(new_results_df['time'][:750], new_results_df['speed'][:750])\n",
    "\n",
    "myFmt = mdates.DateFormatter('%m%d')\n",
    "ax.xaxis.set_major_formatter(myFmt)\n",
    "ax.set_xlabel('Date')\n",
    "ax.set_ylabel('Speed (mph)')\n",
    "ax.set_ylim(10,40)\n",
    "fig.autofmt_xdate()\n",
    "plt.savefig('recent_traffic.png')"
   ]
  },
  {
   "cell_type": "markdown",
   "metadata": {},
   "source": [
    "Traffic data can be reported more than once per hour. Here, I average the reported speeds every hour."
   ]
  },
  {
   "cell_type": "code",
   "execution_count": 224,
   "metadata": {},
   "outputs": [],
   "source": [
    "traffic_df = results_df.groupby(['year', 'month', 'day', 'hour']).mean().reset_index()"
   ]
  },
  {
   "cell_type": "markdown",
   "metadata": {},
   "source": [
    "## Weather Data\n",
    "\n",
    "Weather was acquired from the NOAA for the weather station at O'hare International Airport (ORD). The data is collected hourly, with temperature, wind, and precipitation readings (as well as others). The data was downloaded from the website into a csv for calendar year 2018."
   ]
  },
  {
   "cell_type": "code",
   "execution_count": 453,
   "metadata": {},
   "outputs": [
    {
     "name": "stderr",
     "output_type": "stream",
     "text": [
      "/Users/morris/.pyenv/versions/anaconda3-5.1.0/lib/python3.6/site-packages/IPython/core/interactiveshell.py:2728: DtypeWarning: Columns (25,44,45,63,64,67,84,85,86,87) have mixed types. Specify dtype option on import or set low_memory=False.\n",
      "  interactivity=interactivity, compiler=compiler, result=result)\n"
     ]
    }
   ],
   "source": [
    "# Read csv into a pandas data frame\n",
    "weather_df_all = pd.read_csv(\n",
    "    '1408206.csv', \n",
    "    index_col=None, \n",
    "    na_values=['NA'])"
   ]
  },
  {
   "cell_type": "code",
   "execution_count": 454,
   "metadata": {},
   "outputs": [],
   "source": [
    "# only need temperature and date/time for now.\n",
    "weather_df = weather_df_all[['HOURLYDRYBULBTEMPF', 'DATE']].rename(\n",
    "    columns={'DATE': 'Time', 'HOURLYDRYBULBTEMPF':'Temp'})\n",
    "weather_df = weather_df[np.isfinite(weather_df['Temp'])]"
   ]
  },
  {
   "cell_type": "code",
   "execution_count": 455,
   "metadata": {},
   "outputs": [],
   "source": [
    "# add in columns for day, month, hour, year\n",
    "weather_df['Time'] = pd.to_datetime(weather_df['Time'])\n",
    "weather_df['day'] = weather_df['Time'].dt.day\n",
    "weather_df['month'] = weather_df['Time'].dt.month\n",
    "weather_df['hour'] = weather_df['Time'].dt.hour\n",
    "weather_df['year'] = weather_df['Time'].dt.year"
   ]
  },
  {
   "cell_type": "markdown",
   "metadata": {},
   "source": [
    "## Merging weather and traffic data\n",
    "\n",
    "Now that the data for weather and traffic have been imported, merge the two dataframes so that we have traffic and weather for each hour in year 2018."
   ]
  },
  {
   "cell_type": "code",
   "execution_count": 434,
   "metadata": {},
   "outputs": [],
   "source": [
    "\n",
    "merge = pd.merge(weather_df, traffic_df, \n",
    "        on=['year', 'month', 'day', 'hour'])"
   ]
  },
  {
   "cell_type": "markdown",
   "metadata": {},
   "source": [
    "### Traffic data vs temperature\n",
    "\n",
    "A simple way to see how weather affects traffic speeds is just to make a histogram of traffic speeds vs temperature. Here, I use the numpy and matplotlib to construct this plot."
   ]
  },
  {
   "cell_type": "code",
   "execution_count": 435,
   "metadata": {},
   "outputs": [],
   "source": [
    "# edges for histogram\n",
    "xedges = np.arange(10,110, 10)\n",
    "yedges = np.arange(0, 37, 2)\n",
    "xbinsize = xedges[1] - xedges[0]\n",
    "ybinsize = yedges[1] - yedges[0]\n",
    "\n",
    "H, xedges, yedges = np.histogram2d(merge['Temp'], merge['speed'], bins=(xedges, yedges), normed=False)\n",
    "H = H.T  # Let each row list bins with common y range.\n",
    "\n",
    "#Normalize for each temperature value\n",
    "for i in range(len(H[0])):\n",
    "    if np.sum(H[:,i]) > 0:\n",
    "        H[:,i] /= (np.sum(H[:,i]) * ybinsize)"
   ]
  },
  {
   "cell_type": "code",
   "execution_count": 436,
   "metadata": {},
   "outputs": [],
   "source": [
    "means = []\n",
    "for i, x in enumerate(xedges[:-1]):\n",
    "    means.append(merge[(merge.Temp > x) & (merge.Temp <= xedges[i+1]) ].speed.mean())"
   ]
  },
  {
   "cell_type": "code",
   "execution_count": 437,
   "metadata": {},
   "outputs": [
    {
     "data": {
      "image/png": "[encoded data removed]",
      "text/plain": [
       "<matplotlib.figure.Figure at 0x1a24f052b0>"
      ]
     },
     "metadata": {},
     "output_type": "display_data"
    }
   ],
   "source": [
    "bigfont = 14\n",
    "X, Y = np.meshgrid(xedges, yedges)\n",
    "\n",
    "fig, ax = plt.subplots(figsize=(7, 7)) \n",
    "plt.pcolormesh(X, Y, H)\n",
    "plt.title('Likelihood of Traffic Speed at a Given Temperature', fontsize=bigfont)\n",
    "plt.plot(xedges[:-1] + (xbinsize/2.0), means, 'r-', label = 'Mean Speed')\n",
    "ax.set_xlabel('Temperature (F)', fontsize=bigfont)\n",
    "ax.set_ylabel('Traffic Speed (mph)', fontsize=bigfont)\n",
    "plt.legend()\n",
    "# set the limits of the plot to the limits of the data\n",
    "#plt.axis([x.min(), x.max(), y.min(), y.max()])\n",
    "plt.colorbar()\n",
    "plt.savefig('traffic_vs_temp.png')"
   ]
  },
  {
   "cell_type": "markdown",
   "metadata": {},
   "source": [
    "## Divvy Bike Data\n",
    "\n",
    "Below, I gather data on divvy bike trips for a few bike stations in the same neighborhood and compare to weather data.\n",
    "\n",
    "The first part is to find which divvy stations are within the neighborhood"
   ]
  },
  {
   "cell_type": "code",
   "execution_count": 335,
   "metadata": {},
   "outputs": [],
   "source": [
    "east = results_df.iloc[0]['east']\n",
    "west = results_df.iloc[0]['west']\n",
    "north = results_df.iloc[0]['north']\n",
    "south = results_df.iloc[0]['south']\n",
    "\n"
   ]
  },
  {
   "cell_type": "code",
   "execution_count": null,
   "metadata": {},
   "outputs": [],
   "source": [
    "results_divvy_stations = client.get(\"67g3-8ig8\", limit=2000)\n",
    "\n",
    "# Convert to pandas DataFrame\n",
    "divvy_stations_df = pd.DataFrame.from_records(results_divvy_stations)\n"
   ]
  },
  {
   "cell_type": "markdown",
   "metadata": {},
   "source": [
    "Select a subset of 5 divvy stations within the neighborhood"
   ]
  },
  {
   "cell_type": "code",
   "execution_count": 420,
   "metadata": {},
   "outputs": [],
   "source": [
    "\n",
    "random_5_divvy_stations = divvy_stations_df[(divvy_stations_df.longitude < west) & \n",
    "                  (divvy_stations_df.longitude > east) &\n",
    "                  (divvy_stations_df.latitude > south) & \n",
    "                  (divvy_stations_df.latitude < north)]['id'].sample(n=5)"
   ]
  },
  {
   "cell_type": "code",
   "execution_count": 452,
   "metadata": {},
   "outputs": [],
   "source": [
    "# make a string for the SoQL request\n",
    "\n",
    "request_string = \"start_time > \\'2017-01-01T00:00:00.000\\' and (\"\n",
    "for i in random_5_divvy_stations:\n",
    "    request_string += \"from_station_id = \\'%d\\' or \" % int(i)\n",
    "request_string = request_string[:-4] + \")\"\n"
   ]
  },
  {
   "cell_type": "markdown",
   "metadata": {},
   "source": [
    "Get the divvy results for through the API."
   ]
  },
  {
   "cell_type": "code",
   "execution_count": 422,
   "metadata": {},
   "outputs": [],
   "source": [
    "results_divvy = client.get(\"fg6s-gzvg\", where=request_string, order=\"start_time DESC\", limit=100000)\n",
    "\n",
    "# Convert to pandas DataFrame\n",
    "divvy_df_all = pd.DataFrame.from_records(results_divvy)"
   ]
  },
  {
   "cell_type": "code",
   "execution_count": 423,
   "metadata": {},
   "outputs": [],
   "source": [
    "#Same as for the previous datasets, make columns for day, month, etc.\n",
    "divvy_df = divvy_df_all[['from_station_id', 'start_time']].rename(\n",
    "    columns={'start_time': 'Time', 'from_station_id':'from_station_id'})\n",
    "divvy_df['Time'] = pd.to_datetime(divvy_df['Time'])\n",
    "divvy_df['day'] = divvy_df['Time'].dt.day\n",
    "divvy_df['month'] = divvy_df['Time'].dt.month\n",
    "divvy_df['hour'] = divvy_df['Time'].dt.hour\n",
    "divvy_df['year'] = divvy_df['Time'].dt.year"
   ]
  },
  {
   "cell_type": "code",
   "execution_count": 438,
   "metadata": {},
   "outputs": [],
   "source": [
    "# get the number of bike trips at each hour throughout the year\n",
    "divvy_df_counts = divvy_df.groupby(['year', 'month', 'day', 'hour']).count().reset_index().rename(\n",
    "    columns={'from_station_id': 'bike_counts'})"
   ]
  },
  {
   "cell_type": "markdown",
   "metadata": {},
   "source": [
    "### Bike data versus temperature"
   ]
  },
  {
   "cell_type": "code",
   "execution_count": 456,
   "metadata": {},
   "outputs": [],
   "source": [
    "#merge the dataframes of weather and divvy, and create a histogram\n",
    "merge_d = pd.merge(weather_df, divvy_df_counts, \n",
    "        on=['year', 'month', 'day', 'hour'])\n",
    "\n",
    "# edges for histogram\n",
    "xedges_d = np.arange(10,110, 10)\n",
    "yedges_d = np.arange(0, 37, 1)\n",
    "xbinsize_d = xedges[1] - xedges_d[0]\n",
    "ybinsize_d = yedges[1] - yedges_d[0]\n",
    "\n",
    "H_divvy, xedges_d, yedges_d = np.histogram2d(\n",
    "    merge_d['Temp'], \n",
    "    merge_d['bike_counts'], \n",
    "    bins=(xedges_d, yedges_d), \n",
    "    normed=False)\n",
    "H_divvy = H_divvy.T  # Let each row list bins with common y range.\n",
    "\n",
    "#Normalize for each temperature value\n",
    "for i in range(len(H_divvy[0])):\n",
    "    if np.sum(H_divvy[:,i]) > 0:\n",
    "        H_divvy[:,i] /= (np.sum(H_divvy[:,i]) * ybinsize_d)"
   ]
  },
  {
   "cell_type": "code",
   "execution_count": 457,
   "metadata": {},
   "outputs": [],
   "source": [
    "divvy_means = []\n",
    "for i, x in enumerate(xedges_d[:-1]):\n",
    "    divvy_means.append(merge_d[(merge_d.Temp > x) & (merge_d.Temp <= xedges[i+1]) ].bike_counts.mean())"
   ]
  },
  {
   "cell_type": "code",
   "execution_count": 459,
   "metadata": {},
   "outputs": [
    {
     "data": {
      "image/png": "[encoded data removed]",
      "text/plain": [
       "<matplotlib.figure.Figure at 0x1a25c7eb70>"
      ]
     },
     "metadata": {},
     "output_type": "display_data"
    }
   ],
   "source": [
    "bigfont = 14\n",
    "X_d, Y_d = np.meshgrid(xedges_d, yedges_d)\n",
    "\n",
    "fig, ax = plt.subplots(figsize=(7, 7)) \n",
    "plt.pcolormesh(X_d, Y_d, H_divvy)\n",
    "plt.title('Likelihood of Bikes in use at a Given Temperature', fontsize=bigfont)\n",
    "plt.plot(xedges[:-1] + (xbinsize/2.0), divvy_means, 'r-', label = 'Mean Bikes in Use')\n",
    "ax.set_xlabel('Temperature (F)', fontsize=bigfont)\n",
    "ax.set_ylabel('Bikes in use', fontsize=bigfont)\n",
    "plt.legend()\n",
    "# set the limits of the plot to the limits of the data\n",
    "#plt.axis([x.min(), x.max(), y.min(), y.max()])\n",
    "plt.colorbar()\n",
    "plt.savefig('bike_usage.png')"
   ]
  },
  {
   "cell_type": "code",
   "execution_count": 460,
   "metadata": {},
   "outputs": [],
   "source": [
    "results_df.to_pickle('traffic.pickle')\n",
    "weather_df_all.to_pickle('weather.pickle')\n",
    "divvy_df_all.to_pickle('divvy.picle')"
   ]
  },
  {
   "cell_type": "code",
   "execution_count": null,
   "metadata": {},
   "outputs": [],
   "source": []
  }
 ],
 "metadata": {
  "kernelspec": {
   "display_name": "Python 3",
   "language": "python",
   "name": "python3"
  },
  "language_info": {
   "codemirror_mode": {
    "name": "ipython",
    "version": 3
   },
   "file_extension": ".py",
   "mimetype": "text/x-python",
   "name": "python",
   "nbconvert_exporter": "python",
   "pygments_lexer": "ipython3",
   "version": "3.6.4"
  }
 },
 "nbformat": 4,
 "nbformat_minor": 2
}
